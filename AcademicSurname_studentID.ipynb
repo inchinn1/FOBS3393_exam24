{
 "cells": [
  {
   "cell_type": "markdown",
   "metadata": {},
   "source": [
    "# Data handling assessment"
   ]
  },
  {
   "cell_type": "code",
   "execution_count": null,
   "metadata": {
    "tags": []
   },
   "outputs": [],
   "source": [
    "from DataGen import *   # generates your data\n",
    "import matplotlib.pyplot as plt ## this has imported matplotlib's pyplot as plt\n",
    "plt.rcParams.update({'font.size': 16, 'figure.figsize': [10, 7]}) # sets better defaults for matplotlib graphs\n",
    "\n",
    "import numpy as np  ## this has imported numpy which you can refer to as np\n",
    "import scipy.stats as stats ## this has importated SciPy's statistics package as stats, you may find this useful.\n",
    "import scipy.signal as signal ## imports the signal processing module as signal\n",
    "import scipy.optimize as fit  ## imports the optimization tool box as fit\n",
    "\n",
    "import glob  # imports the glob module\n",
    "import warnings  # prevents printing of some warnings\n",
    "warnings.filterwarnings('ignore')"
   ]
  },
  {
   "cell_type": "markdown",
   "metadata": {},
   "source": [
    "### Each student has a unique data set to process. \n",
    "> 1) To initailise your unique data set insert your 9 digit student number below as a string i.e. inside the inverted commas and run the cell.\n",
    "\n",
    "The length of ID should be 9\n"
   ]
  },
  {
   "cell_type": "code",
   "execution_count": null,
   "metadata": {
    "tags": []
   },
   "outputs": [],
   "source": [
    "ID = 'replace this text with your student number, leave the inverted commas but do not leave any spaces' #\n",
    "print(len(ID))"
   ]
  },
  {
   "cell_type": "markdown",
   "metadata": {},
   "source": [
    "### 1) Loading files (5 marks out of 86)\n",
    "- It is useful to be able to load multiple data sets from a folder.\n",
    "\n",
    "> 1) Run the cell below to initialize your data sets, they will appear in the 'Data sets' folder where you launched this notebook from."
   ]
  },
  {
   "cell_type": "code",
   "execution_count": null,
   "metadata": {
    "tags": []
   },
   "outputs": [],
   "source": [
    "dataFolder(ID) ## this creates your data files to process"
   ]
  },
  {
   "cell_type": "markdown",
   "metadata": {},
   "source": [
    "- The data that you want to load is contained in .csv files\n",
    "- Each file contains a single number\n",
    "\n",
    "> 2) Make a sorted list of these csv file names.    \n",
    ">3) Then loop through this list and load each csv file.   \n",
    ">4) On each iteration of the loop print the data you have loaded.   \n",
    "\n",
    "You should be able to do this in less than 5 lines or less\n"
   ]
  },
  {
   "cell_type": "code",
   "execution_count": null,
   "metadata": {
    "tags": []
   },
   "outputs": [],
   "source": []
  },
  {
   "cell_type": "markdown",
   "metadata": {},
   "source": [
    "### 2) An experimenter has made an extracellular recording from a motor nerve and wants to determine the change in the mean firing rate of this nerve during a voluntary contraction. (15 marks out of 86)\n",
    "\n",
    "\n",
    "- The sample rate of the recording was 10kHz\n",
    "- The data is recorded in µV\n",
    "- The recording is 15 seconds in length\n",
    "- The voluntary contraction began at 5 seconds and lasted 5 seconds.\n",
    "\n",
    "\n",
    "> 1) Run the cell below to generate your nerve data as an array\n"
   ]
  },
  {
   "cell_type": "code",
   "execution_count": null,
   "metadata": {
    "tags": []
   },
   "outputs": [],
   "source": [
    "nerve = getSpike(ID) # this loads your data for this task in to the numpy array called 'Nerve'"
   ]
  },
  {
   "cell_type": "markdown",
   "metadata": {},
   "source": [
    ">2) In the cell below plot the nerve recording with the correct time scale.    "
   ]
  },
  {
   "cell_type": "code",
   "execution_count": null,
   "metadata": {
    "tags": []
   },
   "outputs": [],
   "source": []
  },
  {
   "cell_type": "markdown",
   "metadata": {},
   "source": [
    ">3) Detect spikes in the recording and then:  \n",
    "     A) Detemrmine the the mean spike rate in Hz during the contraction.  \n",
    "     B) Determine the change in mean spike rate evoked by the contraction.\n"
   ]
  },
  {
   "cell_type": "code",
   "execution_count": null,
   "metadata": {
    "tags": []
   },
   "outputs": [],
   "source": [
    "\n",
    "\n",
    "\n"
   ]
  },
  {
   "cell_type": "markdown",
   "metadata": {},
   "source": [
    ">4) Print some text reporting the answers to 3A & 3B. "
   ]
  },
  {
   "cell_type": "code",
   "execution_count": null,
   "metadata": {
    "tags": []
   },
   "outputs": [],
   "source": [
    "\n"
   ]
  },
  {
   "cell_type": "markdown",
   "metadata": {},
   "source": [
    "### 3) An experimenter wants to determine whether a new drug is effective in increasing platelet count in patients with thrombocytopenia (low platelet count). (16 marks out of 86)\n",
    "\n",
    "\n",
    "- A platelet count below 150,000 platelets µl<sup>-1</sup>  indicates a clinical risk.\n",
    "\n",
    "- The experimenter has administered the new drug to 900 thrombocytopenia patients and measured platelet counts before and after treatment with the drug.\n",
    "\n",
    ">1) Run the cell below to load your platelet count data\n"
   ]
  },
  {
   "cell_type": "code",
   "execution_count": null,
   "metadata": {
    "scrolled": true,
    "tags": []
   },
   "outputs": [],
   "source": [
    "platelets = getPlatelets(ID) # this loads your data for this task in to the numpy array called 'mRNAs'"
   ]
  },
  {
   "cell_type": "markdown",
   "metadata": {},
   "source": [
    "- The 1st column of \"platelets\" is the pre-treatment counts and the 2nd contains the data for the same patients post-treatment.\n",
    "- Each row corresponds to the platelet count per µl for each patient.\n",
    "\n",
    ">2) Plot a single graph that displays that clearly displays both histograms of the platelet counts. Use 40 bins for each histogram.    "
   ]
  },
  {
   "cell_type": "code",
   "execution_count": null,
   "metadata": {
    "tags": []
   },
   "outputs": [],
   "source": [
    "\n",
    "\n",
    "\n"
   ]
  },
  {
   "cell_type": "markdown",
   "metadata": {},
   "source": [
    ">3) Determine whether the drug has a significant effect. Print some text justifying your conclusion.\n"
   ]
  },
  {
   "cell_type": "code",
   "execution_count": null,
   "metadata": {},
   "outputs": [],
   "source": [
    "\n"
   ]
  },
  {
   "cell_type": "markdown",
   "metadata": {},
   "source": [
    ">4) Print some text describing whether the new drug is effective at increasing platelet counts to healthy levels?"
   ]
  },
  {
   "cell_type": "code",
   "execution_count": null,
   "metadata": {},
   "outputs": [],
   "source": []
  },
  {
   "cell_type": "markdown",
   "metadata": {
    "tags": []
   },
   "source": [
    "### 4) An experimenter has recorded the time of wheel running events in an experiment using mice and wants to plot the total wheel turns per day. (14 marks out of 86)\n",
    "\n",
    "\n",
    "- The experiemnt ran for 35 days\n",
    "- The time stamps of full wheel turns were saved to a .csv file with 1 file for each day\n",
    "> 1) Run the cell below to generate you data which will appear in the 'Exercise data' folder"
   ]
  },
  {
   "cell_type": "code",
   "execution_count": null,
   "metadata": {
    "tags": []
   },
   "outputs": [],
   "source": [
    "getExercise(ID)"
   ]
  },
  {
   "cell_type": "markdown",
   "metadata": {},
   "source": [
    "> 2) Load the data from the 'Exercise data' folder and generate a graph displaying the total daily wheel turns against day.  "
   ]
  },
  {
   "cell_type": "code",
   "execution_count": null,
   "metadata": {
    "tags": []
   },
   "outputs": [],
   "source": [
    "\n",
    "\n",
    "\n",
    "\n"
   ]
  },
  {
   "cell_type": "markdown",
   "metadata": {},
   "source": [
    "- Methylphenidate, which causes increased locomotor activity in mice, was added to the dirnking water. Judging from your graph on what day was the durg added?\n",
    "\n",
    "> 3) Print some text with your answer"
   ]
  },
  {
   "cell_type": "code",
   "execution_count": null,
   "metadata": {
    "tags": []
   },
   "outputs": [],
   "source": []
  },
  {
   "cell_type": "markdown",
   "metadata": {
    "tags": []
   },
   "source": [
    "### 5)  An experimenter is measuring the drug concentration in the blood to estimate its elimation rate. (20 marks out of 86)\n",
    "\n",
    "- Samples were taken every 5 minutes\n",
    "- Each data point is the concentration of drug in µg l<sup>-1</sup>\n",
    "\n",
    ">1) Run the cell below to generate your drug measurements"
   ]
  },
  {
   "cell_type": "code",
   "execution_count": null,
   "metadata": {
    "tags": []
   },
   "outputs": [],
   "source": [
    "drug = getDrug(ID) # this loads your data for this task in to the numpy array called 'drug'"
   ]
  },
  {
   "cell_type": "markdown",
   "metadata": {},
   "source": [
    ">2) Plot the data as a scatter plot i.e. points for markers rather than lines between points.  \n",
    ">3) Define the appropriate equation for an [exponential decay](https://en.wikipedia.org/wiki/Exponential_decay) which describes the clearnce of a drug from the body.  \n",
    ">4) Fit this equation to your data and plot the best fit.   \n",
    "> 5) Determine the rate constant of drug clearance and print this with some descriptive text.\n"
   ]
  },
  {
   "cell_type": "code",
   "execution_count": null,
   "metadata": {
    "tags": []
   },
   "outputs": [],
   "source": [
    "\n",
    "\n",
    "\n",
    "\n",
    "\n"
   ]
  },
  {
   "cell_type": "markdown",
   "metadata": {
    "tags": []
   },
   "source": [
    "### 6) Summarising nerve conduction velocities. (16 marks out of 86)\n",
    "An experimenter has measured the coduction velocity of sensory nerve fibres at 3 different sites corresponding to the different nerve fibers shown in the below table.\n",
    "\n",
    "| Nerve type | Conduction velocity (m/s) |\n",
    "|------------|---------------------------|\n",
    "| C          | 0.5 - 2                   |\n",
    "| Aα         | 80 -120                   |\n",
    "| Aβ         | 33 - 75                   |\n",
    "\n",
    "- The experimentor recorded from each site in 40 subjects and stored their data in the 'Fiber data' folder. \n",
    "- Each of the 40 data file contain a measuremnet from each site. \n",
    "- The sites were always recorded in the same order.\n",
    "\n",
    "> 1) Run the cell below to initialize your conduction velocity data sets, they will appear in the 'Fiber data' folder where you launched this notebook from."
   ]
  },
  {
   "cell_type": "code",
   "execution_count": null,
   "metadata": {
    "tags": []
   },
   "outputs": [],
   "source": [
    "getfibres(ID) # this places your conduction velocity data into the 'Fiber data' folder"
   ]
  },
  {
   "cell_type": "markdown",
   "metadata": {},
   "source": [
    "> 2) Load all the data and generate [box plots](https://en.wikipedia.org/wiki/Box_plot) to summarise the measured conduction velocities at each site."
   ]
  },
  {
   "cell_type": "code",
   "execution_count": null,
   "metadata": {
    "tags": []
   },
   "outputs": [],
   "source": [
    "\n",
    "\n",
    "\n",
    "\n",
    "\n"
   ]
  },
  {
   "cell_type": "markdown",
   "metadata": {},
   "source": [
    "> 3) Print some text to indicate which recording site corresponds to which fibre type."
   ]
  },
  {
   "cell_type": "code",
   "execution_count": null,
   "metadata": {},
   "outputs": [],
   "source": []
  }
 ],
 "metadata": {
  "kernelspec": {
   "display_name": "Python 3 (ipykernel)",
   "language": "python",
   "name": "python3"
  },
  "language_info": {
   "codemirror_mode": {
    "name": "ipython",
    "version": 3
   },
   "file_extension": ".py",
   "mimetype": "text/x-python",
   "name": "python",
   "nbconvert_exporter": "python",
   "pygments_lexer": "ipython3",
   "version": "3.10.12"
  },
  "toc": {
   "base_numbering": 1,
   "nav_menu": {},
   "number_sections": true,
   "sideBar": true,
   "skip_h1_title": false,
   "title_cell": "Table of Contents",
   "title_sidebar": "Contents",
   "toc_cell": false,
   "toc_position": {},
   "toc_section_display": true,
   "toc_window_display": false
  },
  "varInspector": {
   "cols": {
    "lenName": 16,
    "lenType": 16,
    "lenVar": 40
   },
   "kernels_config": {
    "python": {
     "delete_cmd_postfix": "",
     "delete_cmd_prefix": "del ",
     "library": "var_list.py",
     "varRefreshCmd": "print(var_dic_list())"
    },
    "r": {
     "delete_cmd_postfix": ") ",
     "delete_cmd_prefix": "rm(",
     "library": "var_list.r",
     "varRefreshCmd": "cat(var_dic_list()) "
    }
   },
   "types_to_exclude": [
    "module",
    "function",
    "builtin_function_or_method",
    "instance",
    "_Feature"
   ],
   "window_display": false
  }
 },
 "nbformat": 4,
 "nbformat_minor": 4
}
